{
 "cells": [
  {
   "cell_type": "code",
   "execution_count": 1,
   "id": "cde1e1e0-186a-49e8-bb47-8385b4c45561",
   "metadata": {},
   "outputs": [],
   "source": [
    "import pandas as pd\n",
    "import numpy as np"
   ]
  },
  {
   "cell_type": "code",
   "execution_count": 4,
   "id": "b3359f29-248c-442e-b204-89121cf2669e",
   "metadata": {},
   "outputs": [],
   "source": [
    "df = pd.read_csv(\"data/data_.csv\")"
   ]
  },
  {
   "cell_type": "code",
   "execution_count": 11,
   "id": "5491a33c-b674-463e-af40-cc31e76eacea",
   "metadata": {},
   "outputs": [
    {
     "name": "stdout",
     "output_type": "stream",
     "text": [
      "       output  input\n",
      "0       False  False\n",
      "1       False  False\n",
      "2       False  False\n",
      "3       False  False\n",
      "4       False  False\n",
      "...       ...    ...\n",
      "14330   False  False\n",
      "14331   False  False\n",
      "14332   False  False\n",
      "14333   False  False\n",
      "14334   False  False\n",
      "\n",
      "[14335 rows x 2 columns]\n"
     ]
    }
   ],
   "source": [
    "print(df.isnull())"
   ]
  },
  {
   "cell_type": "code",
   "execution_count": 12,
   "id": "f9b6aaae-cd8b-492b-ad97-d38416646683",
   "metadata": {},
   "outputs": [
    {
     "name": "stdout",
     "output_type": "stream",
     "text": [
      "       output  input\n",
      "0       False  False\n",
      "1       False  False\n",
      "2       False  False\n",
      "3       False  False\n",
      "4       False  False\n",
      "...       ...    ...\n",
      "14330   False  False\n",
      "14331   False  False\n",
      "14332   False  False\n",
      "14333   False  False\n",
      "14334   False  False\n",
      "\n",
      "[14335 rows x 2 columns]\n"
     ]
    }
   ],
   "source": [
    "print(df.isnull())"
   ]
  },
  {
   "cell_type": "code",
   "execution_count": 14,
   "id": "466a234e-e925-46e0-899b-bbd8f5c66b36",
   "metadata": {},
   "outputs": [
    {
     "name": "stdout",
     "output_type": "stream",
     "text": [
      "<class 'pandas.core.series.Series'>\n",
      "RangeIndex: 14335 entries, 0 to 14334\n",
      "Series name: output\n",
      "Non-Null Count  Dtype \n",
      "--------------  ----- \n",
      "14335 non-null  object\n",
      "dtypes: object(1)\n",
      "memory usage: 112.1+ KB\n"
     ]
    }
   ],
   "source": [
    "df[\"output\"].info()"
   ]
  },
  {
   "cell_type": "code",
   "execution_count": 17,
   "id": "623c050d-c530-4724-ae93-d8499f4b0f52",
   "metadata": {},
   "outputs": [
    {
     "name": "stdout",
     "output_type": "stream",
     "text": [
      "Empty DataFrame\n",
      "Columns: [output, input]\n",
      "Index: []\n"
     ]
    }
   ],
   "source": [
    "print(df[df['input'].isna()])  # Filter rows where 'A' is NaN"
   ]
  },
  {
   "cell_type": "code",
   "execution_count": 16,
   "id": "774e1ff7-bfbe-40eb-8c38-aeef1b544589",
   "metadata": {},
   "outputs": [
    {
     "data": {
      "text/html": [
       "<div>\n",
       "<style scoped>\n",
       "    .dataframe tbody tr th:only-of-type {\n",
       "        vertical-align: middle;\n",
       "    }\n",
       "\n",
       "    .dataframe tbody tr th {\n",
       "        vertical-align: top;\n",
       "    }\n",
       "\n",
       "    .dataframe thead th {\n",
       "        text-align: right;\n",
       "    }\n",
       "</style>\n",
       "<table border=\"1\" class=\"dataframe\">\n",
       "  <thead>\n",
       "    <tr style=\"text-align: right;\">\n",
       "      <th></th>\n",
       "      <th>output</th>\n",
       "      <th>input</th>\n",
       "    </tr>\n",
       "  </thead>\n",
       "  <tbody>\n",
       "    <tr>\n",
       "      <th>0</th>\n",
       "      <td>loneliness\\nhis childhood\\nwarms him up\\nlonel...</td>\n",
       "      <td>generate a poem by the following author: johnt...</td>\n",
       "    </tr>\n",
       "    <tr>\n",
       "      <th>1</th>\n",
       "      <td>Sit in a chair\\nalone\\nPeople I thought were\\n...</td>\n",
       "      <td>generate a poem by the following author: Deana...</td>\n",
       "    </tr>\n",
       "    <tr>\n",
       "      <th>2</th>\n",
       "      <td>Tell me why it has to be this way\\nwhy I must ...</td>\n",
       "      <td>generate a poem by the following author: Deana...</td>\n",
       "    </tr>\n",
       "    <tr>\n",
       "      <th>3</th>\n",
       "      <td>A debtor to mercy alone, of covenant mercy I s...</td>\n",
       "      <td>generate a poem by the following author: Augus...</td>\n",
       "    </tr>\n",
       "    <tr>\n",
       "      <th>4</th>\n",
       "      <td>A year has been passed since I left home\\nAgai...</td>\n",
       "      <td>generate a poem by the following author: RaviS...</td>\n",
       "    </tr>\n",
       "    <tr>\n",
       "      <th>...</th>\n",
       "      <td>...</td>\n",
       "      <td>...</td>\n",
       "    </tr>\n",
       "    <tr>\n",
       "      <th>14330</th>\n",
       "      <td>We may roam through this world, like a child a...</td>\n",
       "      <td>generate a poem by the following author: Thoma...</td>\n",
       "    </tr>\n",
       "    <tr>\n",
       "      <th>14331</th>\n",
       "      <td>When you were born in this world\\nEveryone lau...</td>\n",
       "      <td>generate a poem by the following author: Kabir...</td>\n",
       "    </tr>\n",
       "    <tr>\n",
       "      <th>14332</th>\n",
       "      <td>When I cast a look around the world,\\nI marvel...</td>\n",
       "      <td>generate a poem by the following author: MacAr...</td>\n",
       "    </tr>\n",
       "    <tr>\n",
       "      <th>14333</th>\n",
       "      <td>WORLD, take good notice, silver stars fading,\\...</td>\n",
       "      <td>generate a poem by the following author: WaltW...</td>\n",
       "    </tr>\n",
       "    <tr>\n",
       "      <th>14334</th>\n",
       "      <td>World was in the face of the beloved--,\\nbut s...</td>\n",
       "      <td>generate a poem by the following author: Raine...</td>\n",
       "    </tr>\n",
       "  </tbody>\n",
       "</table>\n",
       "<p>14335 rows × 2 columns</p>\n",
       "</div>"
      ],
      "text/plain": [
       "                                                  output  \\\n",
       "0      loneliness\\nhis childhood\\nwarms him up\\nlonel...   \n",
       "1      Sit in a chair\\nalone\\nPeople I thought were\\n...   \n",
       "2      Tell me why it has to be this way\\nwhy I must ...   \n",
       "3      A debtor to mercy alone, of covenant mercy I s...   \n",
       "4      A year has been passed since I left home\\nAgai...   \n",
       "...                                                  ...   \n",
       "14330  We may roam through this world, like a child a...   \n",
       "14331  When you were born in this world\\nEveryone lau...   \n",
       "14332  When I cast a look around the world,\\nI marvel...   \n",
       "14333  WORLD, take good notice, silver stars fading,\\...   \n",
       "14334  World was in the face of the beloved--,\\nbut s...   \n",
       "\n",
       "                                                   input  \n",
       "0      generate a poem by the following author: johnt...  \n",
       "1      generate a poem by the following author: Deana...  \n",
       "2      generate a poem by the following author: Deana...  \n",
       "3      generate a poem by the following author: Augus...  \n",
       "4      generate a poem by the following author: RaviS...  \n",
       "...                                                  ...  \n",
       "14330  generate a poem by the following author: Thoma...  \n",
       "14331  generate a poem by the following author: Kabir...  \n",
       "14332  generate a poem by the following author: MacAr...  \n",
       "14333  generate a poem by the following author: WaltW...  \n",
       "14334  generate a poem by the following author: Raine...  \n",
       "\n",
       "[14335 rows x 2 columns]"
      ]
     },
     "execution_count": 16,
     "metadata": {},
     "output_type": "execute_result"
    }
   ],
   "source": [
    "df"
   ]
  },
  {
   "cell_type": "code",
   "execution_count": 30,
   "id": "bf4bd484-d2b8-46cb-a461-85c6842e8500",
   "metadata": {},
   "outputs": [
    {
     "data": {
      "text/plain": [
       "'generate a poem by the following author: EboneIngram with the following topic angel'"
      ]
     },
     "execution_count": 30,
     "metadata": {},
     "output_type": "execute_result"
    }
   ],
   "source": [
    "df[\"input\"][199]\n",
    "df[\"input\"][200]"
   ]
  },
  {
   "cell_type": "code",
   "execution_count": 31,
   "id": "4ac41688-abce-4dfa-83ce-6e4c349612a8",
   "metadata": {},
   "outputs": [
    {
     "data": {
      "text/plain": [
       "\"When will my angel come?\\nMy breathing's coming so much harder\\nI think it's time for me to slip away\\nMy soul is coming out my body\\nAnd darkness finds my eyes\\nBut then your voice calls me back to light.\\nChorus:\\nWhen my heart is gone\\nAnd my life means naught\\nAnd it's just an endless darkness that I trod\\nI have you\\nand that soothes my very soul\\nWhen I cannot live\\nAnd I'm too weak to go on\\nAnd there's nothing more that I feel I can do\\nI have you with me\\nAnd that's all I'll ever want\\nVerse 2:\\nYour hand is reaching out to catch me\\nTo pull me up from this sea I'm drowning in\\nAnd now you put your arms around me\\nWhich causes me to smile =)\\nCause when the final blow was coming\\nYou shielded me, you brought me back to health\\nAnd when I thought my story'd ended\\nYou came and turned the page\\nAnd I am sure that I'll remember\\n(repeat C)\\nShelter me with your wings\\nSo I don't have to fear anything\\n(4 measures rest-awesome orchestral part =))\\nYou'll never know how much you mean to me, baby.\\nYou gave me love; that's all that I'll ever need\\nWhen tears are falling down my face,\\nyou make it better when you hold me\\nYou are my angel\\n(repeat C 2x)\\nI have you with me\\nAnd that's all I'll ever want\\nI have you\\nAnd that soothes my very soul\\nWhen I cannot live\\nAnd I'm too weak to go on\\nAnd there's nothing more that I feel I can do\\nI have you with me\\nAnd that's all I'll ever want...yeah.\""
      ]
     },
     "execution_count": 31,
     "metadata": {},
     "output_type": "execute_result"
    }
   ],
   "source": [
    "df[\"output\"][200]"
   ]
  },
  {
   "cell_type": "code",
   "execution_count": null,
   "id": "c1ae423e-6adf-44f9-83a6-d7e1b067bcbc",
   "metadata": {},
   "outputs": [],
   "source": []
  }
 ],
 "metadata": {
  "kernelspec": {
   "display_name": "Python 3 (ipykernel)",
   "language": "python",
   "name": "python3"
  },
  "language_info": {
   "codemirror_mode": {
    "name": "ipython",
    "version": 3
   },
   "file_extension": ".py",
   "mimetype": "text/x-python",
   "name": "python",
   "nbconvert_exporter": "python",
   "pygments_lexer": "ipython3",
   "version": "3.10.13"
  }
 },
 "nbformat": 4,
 "nbformat_minor": 5
}
