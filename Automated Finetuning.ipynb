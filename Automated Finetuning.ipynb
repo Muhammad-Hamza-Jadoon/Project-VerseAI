{
 "cells": [
  {
   "cell_type": "code",
   "execution_count": 2,
   "id": "251a7271-3c12-4201-a09d-5555b01c12e1",
   "metadata": {},
   "outputs": [],
   "source": [
    "import pandas as pd\n",
    "import numpy as np"
   ]
  },
  {
   "cell_type": "code",
   "execution_count": 3,
   "id": "43efb6cc-cad2-4951-b2af-eae2c039f44a",
   "metadata": {},
   "outputs": [],
   "source": [
    "df = pd.read_csv(\"data/data_.csv\")"
   ]
  },
  {
   "cell_type": "code",
   "execution_count": null,
   "id": "b26491f7-037d-4ae7-8474-da30d416e3c1",
   "metadata": {},
   "outputs": [],
   "source": []
  },
  {
   "cell_type": "code",
   "execution_count": null,
   "id": "d64d5d99-4648-4fd2-87e8-acd259da90eb",
   "metadata": {},
   "outputs": [],
   "source": []
  },
  {
   "cell_type": "code",
   "execution_count": null,
   "id": "a8e4b89e-abf2-4f05-9384-fc0e18fa4842",
   "metadata": {},
   "outputs": [],
   "source": []
  },
  {
   "cell_type": "code",
   "execution_count": 5,
   "id": "e5fb6781-7300-4220-9f53-349779bf0fc2",
   "metadata": {},
   "outputs": [],
   "source": [
    "from transformers import AutoModelForSeq2SeqLM, AutoTokenizer\n",
    "from datasets import Dataset\n",
    "\n",
    "model_name = \"google/flan-t5-small\"\n",
    "model = AutoModelForSeq2SeqLM.from_pretrained(model_name)\n",
    "tokenizer = AutoTokenizer.from_pretrained(model_name)"
   ]
  },
  {
   "cell_type": "code",
   "execution_count": null,
   "id": "8dd6eb45-a1ee-4ff5-a756-f96c02439c47",
   "metadata": {},
   "outputs": [],
   "source": [
    "import pandas as pd\n",
    "from datasets import Dataset\n",
    "\n",
    "data_dict = test_df.to_dict(orient='list')\n",
    "dataset = Dataset.from_dict(data_dict)"
   ]
  },
  {
   "cell_type": "code",
   "execution_count": null,
   "id": "4f90d75d-239c-4143-b08f-30cba16285e0",
   "metadata": {},
   "outputs": [],
   "source": [
    "def prepare_data(data):\n",
    "\n",
    "    # print(\"\\n\\n\\nKeys:\", list(data.keys()))\n",
    "    # for key, value in data.items():\n",
    "    #     print(\".................................................\")\n",
    "    #     print(\"here is key ---->>>\",key)\n",
    "    #     print(\"here is value ---->>>\",value)\n",
    "        \n",
    "    model_inputs = tokenizer(data[\"input\"], max_length=512, truncation=True, padding=\"max_length\")\n",
    "    labels = tokenizer(data[\"output\"], max_length=512, truncation=True, padding=\"max_length\")\n",
    "    model_inputs[\"labels\"] = labels[\"input_ids\"]\n",
    "    \n",
    "    # print(\"\\n\\n\\nKeys:\", list(model_inputs.keys()))\n",
    "    # print(\"labels:\", list(labels.keys()))\n",
    "    # print(model_inputs[\"input_ids\"])\n",
    "    # print(model_inputs[\"attention_mask\"])\n",
    "\n",
    "    return model_inputs\n",
    "    \n",
    "tokenized_dataset = dataset.map(prepare_data)\n",
    "\n",
    "# for row in dataset[\"content\"]:\n",
    "#     # prepare_data({\"content\": row})\n",
    "#     prepare_data(row)\n",
    "#     break "
   ]
  },
  {
   "cell_type": "code",
   "execution_count": null,
   "id": "0c457aa2-6f48-4842-8579-0d8e3045007a",
   "metadata": {},
   "outputs": [],
   "source": [
    "# Remove unnecessary columns\n",
    "columns_to_remove = ['output', 'input']\n",
    "tokenized_dataset = tokenized_dataset.remove_columns(columns_to_remove)\n",
    "\n",
    "\n",
    "\n",
    "# Split the dataset\n",
    "train_test_split = tokenized_dataset.train_test_split(test_size=0.1)\n",
    "train_dataset = train_test_split['train']\n",
    "eval_dataset = train_test_split['test']\n",
    "\n",
    "# Set the format of your dataset\n",
    "train_dataset.set_format(type=\"torch\", columns=[\"input_ids\", \"attention_mask\", \"labels\"])\n",
    "eval_dataset.set_format(type=\"torch\", columns=[\"input_ids\", \"attention_mask\", \"labels\"])\n",
    "\n",
    "# Check a few examples\n",
    "print(train_dataset[0])\n",
    "print(tokenizer.decode(train_dataset[0]['input_ids']))\n",
    "print(tokenizer.decode(train_dataset[0]['labels']))\n",
    "\n",
    "# # Create a data collator\n",
    "# from transformers import DataCollatorForSeq2SeqLM\n",
    "from transformers import DataCollatorForSeq2Seq\n",
    "data_collator = DataCollatorForSeq2Seq(tokenizer=tokenizer, model=model)"
   ]
  },
  {
   "cell_type": "code",
   "execution_count": null,
   "id": "23dd91d6-806b-4b69-b510-7e0af7c8f8f7",
   "metadata": {},
   "outputs": [],
   "source": [
    "from transformers import Trainer, TrainingArguments\n",
    "\n",
    "training_args = TrainingArguments(\n",
    "    output_dir=\"./results\",\n",
    "    num_train_epochs=3,\n",
    "    per_device_train_batch_size=8,\n",
    "    per_device_eval_batch_size=8,\n",
    "    warmup_steps=500,\n",
    "    weight_decay=0.01,\n",
    "    logging_dir=\"./logs\",\n",
    "    evaluation_strategy=\"epoch\",\n",
    ")\n",
    "\n",
    "trainer = Trainer(\n",
    "    model=model,\n",
    "    args=training_args,\n",
    "    train_dataset=train_dataset,\n",
    "    eval_dataset=eval_dataset,\n",
    "    tokenizer=tokenizer,\n",
    "    data_collator=data_collator,\n",
    ")"
   ]
  },
  {
   "cell_type": "code",
   "execution_count": null,
   "id": "15efa038-22ae-4175-a558-1969f3b4c2ff",
   "metadata": {},
   "outputs": [],
   "source": [
    "trainer.train()"
   ]
  },
  {
   "cell_type": "code",
   "execution_count": null,
   "id": "19f61449-4291-4a4b-af42-780212386446",
   "metadata": {},
   "outputs": [],
   "source": [
    "eval_results = trainer.evaluate()\n",
    "print(eval_results)"
   ]
  },
  {
   "cell_type": "code",
   "execution_count": null,
   "id": "622fd42c-98ca-4b52-81b4-4419e90773f6",
   "metadata": {},
   "outputs": [],
   "source": []
  }
 ],
 "metadata": {
  "kernelspec": {
   "display_name": "Python 3 (ipykernel)",
   "language": "python",
   "name": "python3"
  },
  "language_info": {
   "codemirror_mode": {
    "name": "ipython",
    "version": 3
   },
   "file_extension": ".py",
   "mimetype": "text/x-python",
   "name": "python",
   "nbconvert_exporter": "python",
   "pygments_lexer": "ipython3",
   "version": "3.10.13"
  }
 },
 "nbformat": 4,
 "nbformat_minor": 5
}
